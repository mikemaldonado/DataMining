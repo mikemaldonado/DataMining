{
    "nbformat_minor": 1, 
    "cells": [
        {
            "execution_count": 1, 
            "cell_type": "code", 
            "metadata": {}, 
            "outputs": [
                {
                    "output_type": "stream", 
                    "name": "stdout", 
                    "text": "Waiting for a Spark session to start...\nSpark Initialization Done! ApplicationId = app-20181206200244-0005\nKERNEL_ID = bb20c025-f4fe-4a73-a40e-f7cf29bb59e7\n"
                }, 
                {
                    "execution_count": 1, 
                    "metadata": {}, 
                    "data": {
                        "text/html": "<div>\n<style scoped>\n    .dataframe tbody tr th:only-of-type {\n        vertical-align: middle;\n    }\n\n    .dataframe tbody tr th {\n        vertical-align: top;\n    }\n\n    .dataframe thead th {\n        text-align: right;\n    }\n</style>\n<table border=\"1\" class=\"dataframe\">\n  <thead>\n    <tr style=\"text-align: right;\">\n      <th></th>\n      <th>Cool</th>\n      <th>Date</th>\n      <th>Funny</th>\n      <th>Stars</th>\n      <th>Text</th>\n      <th>Useful</th>\n      <th>User_ID</th>\n    </tr>\n  </thead>\n  <tbody>\n    <tr>\n      <th>0</th>\n      <td>0.0</td>\n      <td>2015-05-21</td>\n      <td>1.0</td>\n      <td>2.0</td>\n      <td>this place is over priced bar food and i would...</td>\n      <td>0.0</td>\n      <td>cW_ugvCWQ5shvIULqKVUpw</td>\n    </tr>\n    <tr>\n      <th>1</th>\n      <td>1.0</td>\n      <td>2017-01-09</td>\n      <td>1.0</td>\n      <td>5.0</td>\n      <td>we went here for my mothers in law's birthday ...</td>\n      <td>1.0</td>\n      <td>cW_ugvCWQ5shvIULqKVUpw</td>\n    </tr>\n    <tr>\n      <th>2</th>\n      <td>0.0</td>\n      <td>2017-06-04</td>\n      <td>0.0</td>\n      <td>1.0</td>\n      <td>so excited to try this place and have another ...</td>\n      <td>0.0</td>\n      <td>cW_ugvCWQ5shvIULqKVUpw</td>\n    </tr>\n    <tr>\n      <th>3</th>\n      <td>0.0</td>\n      <td>2015-02-01</td>\n      <td>0.0</td>\n      <td>1.0</td>\n      <td>if there were negative stars, i would rate thi...</td>\n      <td>2.0</td>\n      <td>cW_ugvCWQ5shvIULqKVUpw</td>\n    </tr>\n    <tr>\n      <th>4</th>\n      <td>0.0</td>\n      <td>2015-07-02</td>\n      <td>0.0</td>\n      <td>5.0</td>\n      <td>i love this place!! literally have never had a...</td>\n      <td>0.0</td>\n      <td>cW_ugvCWQ5shvIULqKVUpw</td>\n    </tr>\n  </tbody>\n</table>\n</div>", 
                        "text/plain": "   Cool        Date  Funny  Stars  \\\n0   0.0  2015-05-21    1.0    2.0   \n1   1.0  2017-01-09    1.0    5.0   \n2   0.0  2017-06-04    0.0    1.0   \n3   0.0  2015-02-01    0.0    1.0   \n4   0.0  2015-07-02    0.0    5.0   \n\n                                                Text  Useful  \\\n0  this place is over priced bar food and i would...     0.0   \n1  we went here for my mothers in law's birthday ...     1.0   \n2  so excited to try this place and have another ...     0.0   \n3  if there were negative stars, i would rate thi...     2.0   \n4  i love this place!! literally have never had a...     0.0   \n\n                  User_ID  \n0  cW_ugvCWQ5shvIULqKVUpw  \n1  cW_ugvCWQ5shvIULqKVUpw  \n2  cW_ugvCWQ5shvIULqKVUpw  \n3  cW_ugvCWQ5shvIULqKVUpw  \n4  cW_ugvCWQ5shvIULqKVUpw  "
                    }, 
                    "output_type": "execute_result"
                }
            ], 
            "source": "# The code was removed by Watson Studio for sharing."
        }, 
        {
            "execution_count": 2, 
            "cell_type": "code", 
            "metadata": {}, 
            "outputs": [
                {
                    "execution_count": 2, 
                    "metadata": {}, 
                    "data": {
                        "text/html": "<div>\n<style scoped>\n    .dataframe tbody tr th:only-of-type {\n        vertical-align: middle;\n    }\n\n    .dataframe tbody tr th {\n        vertical-align: top;\n    }\n\n    .dataframe thead th {\n        text-align: right;\n    }\n</style>\n<table border=\"1\" class=\"dataframe\">\n  <thead>\n    <tr style=\"text-align: right;\">\n      <th></th>\n      <th>a+</th>\n    </tr>\n  </thead>\n  <tbody>\n    <tr>\n      <th>0</th>\n      <td>abound</td>\n    </tr>\n    <tr>\n      <th>1</th>\n      <td>abounds</td>\n    </tr>\n    <tr>\n      <th>2</th>\n      <td>abundance</td>\n    </tr>\n    <tr>\n      <th>3</th>\n      <td>abundant</td>\n    </tr>\n    <tr>\n      <th>4</th>\n      <td>accessable</td>\n    </tr>\n  </tbody>\n</table>\n</div>", 
                        "text/plain": "           a+\n0      abound\n1     abounds\n2   abundance\n3    abundant\n4  accessable"
                    }, 
                    "output_type": "execute_result"
                }
            ], 
            "source": "\nbody = client_3c56f955febc4cee81883396cf4aa186.get_object(Bucket='mikemaldonado-donotdelete-pr-hpva0iyodocyil',Key='data_asset/positive_words.txt_shaped_l6BpkOJWT2KhEBo-wAPnMw.csv')['Body']\n# add missing __iter__ method, so pandas accepts body as file-like object\nif not hasattr(body, \"__iter__\"): body.__iter__ = types.MethodType( __iter__, body )\n\ndf_data_4 = pd.read_csv(body)\ndf_data_4.head()\n\n"
        }, 
        {
            "execution_count": null, 
            "cell_type": "code", 
            "metadata": {}, 
            "outputs": [], 
            "source": "keywords = set(df_data_4['a+'])\nkeywords.add('is')\ndf_data_4['Text'] = df_data_3['Text'].str.split()\nmatchedWords = [set()] * df_data_3.count()\nfor row in df_data_3.index:\n    if row < 200:\n        reviewSet = set(df_data_3.loc[row]['Text'])\n        matchedWords[row].append(keywords.intersection(reviewSet))"
        }, 
        {
            "execution_count": null, 
            "cell_type": "code", 
            "metadata": {}, 
            "outputs": [], 
            "source": ""
        }
    ], 
    "metadata": {
        "kernelspec": {
            "display_name": "Python 3.5 with Spark", 
            "name": "python3", 
            "language": "python3"
        }
    }, 
    "nbformat": 4
}